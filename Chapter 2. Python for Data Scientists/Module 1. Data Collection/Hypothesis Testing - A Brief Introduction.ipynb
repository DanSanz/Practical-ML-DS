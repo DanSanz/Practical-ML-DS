{
 "cells": [
  {
   "cell_type": "markdown",
   "metadata": {},
   "source": [
    "# Hypothesis Testing - A Brief Introduction\n",
    "\n",
    "### Learning Objectives:\n",
    "- [Introduction](#Introduction)\n",
    "- [Null & Alternative Hypothesis](#Null-&-Alternative-Hypothesis)\n",
    "- [Type I & Type II Errors](#Type-I-&-Type-II-Errors)\n",
    "- [Probability & Decision Making](#Probability-&-Decision-Making)\n",
    "\n",
    "# Introduction\n",
    "\n",
    "As data scientists, we often find the need to make decisions based on the data we have collected. This can be within different contexts, such as determining whether CO2 emissions have a significant contribution to global warming, whether protective face masks have a significant impact in preventing COVID-19 infection rates, or whether a model we have created provides statistically significant results. After obtaining our statistics, we can have a decent _feeling_ or _opinion_ on whether our data is valid and shows significant results. But how can we more make objective decisions based on our results?\n",
    "\n",
    "Thus arises the need for __(statistical) hypothesis testing__, also known as __confirmatory data analysis__. It provides us with a framework for using statistical and probabilistic methods based on our data to be able to determine the significance of our results. Ideally, hypothesis testing enables different statisticians to look at the same data and independently reach the same conclusion. It is considered to be a method of __statistical inference__, as we are using a statistical analysis to infer certain characteristics of our random variables.\n",
    "\n",
    "We will now give an overview of the statistical hypothesis testing framework."
   ]
  },
  {
   "cell_type": "markdown",
   "metadata": {},
   "source": [
    "# Null & Alternative Hypotheses\n",
    "\n",
    "In hypothesis testing, we have to construct two opposing hypotheses. The first one is known as the __null hypothesis__ ($\\mathbf{H_{0}}$) and is the hypothesis you are trying to __reject__. The second one is known as the __alternative hypothesis__ ($\\mathbf{H_{A}}$), and is the hypothesis you are trying to __accept__. Within this framework, we assume the null hypothesis is true, and use statistical methods to determine whether our evidence is conclusive enough to reject the null hypothesis, and accept the alternative hypothesis.\n",
    "\n",
    "This is a similar framework to the approach used in court cases. During a trial, the outlook is that a person is 'innocent until proven guilty'. This means that, in this case:\n",
    "- $\\mathbf{H_{0}}$: The person is innocent\n",
    "- $\\mathbf{H_{A}}$: The person is guilty\n",
    "\n",
    "And the prosecuting lawyers will use various pieces of evidence to reject $\\mathbf{H_{0}}$ to try and accept $\\mathbf{H_{A}}$. \n",
    "\n",
    "In general, we can think of the null hypothesis as being 'your evidence _does not_ suggest what you think' and the alternative as being 'your evidence _does_ suggest what you think'. You assume your evidence _does not_ contribute anything new until you have statistical measures that suggest your evidence _does_ contribute to something new.\n",
    "\n",
    "- Definitions\n",
    "- How to generate them based on your problem\n",
    "- Type I and Type II errors: which are worse? Context of a problem and how to model it properly, trade-offs"
   ]
  },
  {
   "cell_type": "markdown",
   "metadata": {},
   "source": [
    "# Type I & Type II Errors"
   ]
  },
  {
   "cell_type": "markdown",
   "metadata": {},
   "source": [
    "# Probability & Decision Making\n",
    "- How do we know whether we can reject the null hypothesis and accept the alternative hypothesis?\n",
    "- Define a test procedure, a test statistic and a rejection region\n",
    "- p-value definition\n",
    "- critical value definitions"
   ]
  }
 ],
 "metadata": {
  "kernelspec": {
   "display_name": "Python 3",
   "language": "python",
   "name": "python3"
  },
  "language_info": {
   "codemirror_mode": {
    "name": "ipython",
    "version": 3
   },
   "file_extension": ".py",
   "mimetype": "text/x-python",
   "name": "python",
   "nbconvert_exporter": "python",
   "pygments_lexer": "ipython3",
   "version": "3.7.7"
  }
 },
 "nbformat": 4,
 "nbformat_minor": 4
}
