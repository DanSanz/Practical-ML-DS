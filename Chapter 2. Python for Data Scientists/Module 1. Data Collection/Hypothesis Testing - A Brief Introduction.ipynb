{
 "cells": [
  {
   "cell_type": "markdown",
   "metadata": {},
   "source": [
    "# Hypothesis Testing - A Brief Introduction\n",
    "\n",
    "### Learning Objectives:\n",
    "- [Introduction](#Introduction)\n",
    "- [Null & Alternative Hypothesis](#Null-&-Alternative-Hypothesis)\n",
    "- [Probability & Decision Making](#Probability-&-Decision-Making)\n",
    "\n",
    "# Introduction\n",
    "- Introduction to Hypothesis testing and motivation\n",
    "- Use court-case example\n",
    "- Provided context within data science"
   ]
  },
  {
   "cell_type": "markdown",
   "metadata": {},
   "source": [
    "# Null & Alternative Hypothesis\n",
    "- Definitions\n",
    "- How to generate them based on your problem\n",
    "- Type I and Type II errors: which are worse? Context of a problem and how to model it properly, trade-offs"
   ]
  },
  {
   "cell_type": "markdown",
   "metadata": {},
   "source": [
    "# Probability & Decision Making\n",
    "- How do we know whether we can reject the null hypothesis and accept the alternative hypothesis?\n",
    "- Define a test procedure, a test statistic and a rejection region\n",
    "- p-value definition\n",
    "- critical value definitions"
   ]
  }
 ],
 "metadata": {
  "kernelspec": {
   "display_name": "Python 3",
   "language": "python",
   "name": "python3"
  },
  "language_info": {
   "codemirror_mode": {
    "name": "ipython",
    "version": 3
   },
   "file_extension": ".py",
   "mimetype": "text/x-python",
   "name": "python",
   "nbconvert_exporter": "python",
   "pygments_lexer": "ipython3",
   "version": "3.7.7"
  }
 },
 "nbformat": 4,
 "nbformat_minor": 4
}
