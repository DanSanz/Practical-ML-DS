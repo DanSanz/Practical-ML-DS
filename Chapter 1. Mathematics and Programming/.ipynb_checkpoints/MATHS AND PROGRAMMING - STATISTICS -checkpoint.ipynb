{
 "cells": [
  {
   "cell_type": "markdown",
   "metadata": {
    "slideshow": {
     "slide_type": "slide"
    }
   },
   "source": [
    "## MATHS AND PROGRAMMING\n",
    "___\n",
    "### STATISTICS \n",
    "### STATS 101 "
   ]
  },
  {
   "cell_type": "markdown",
   "metadata": {
    "slideshow": {
     "slide_type": "slide"
    }
   },
   "source": [
    "#### Author: \n",
    "#### Teaching Date: \n",
    "#### Contents:\n",
    "- [Contents](#MATHEMATICS-AND-PROGRAMMING)\n",
    " - "
   ]
  },
  {
   "cell_type": "markdown",
   "metadata": {
    "slideshow": {
     "slide_type": "slide"
    }
   },
   "source": [
    "# WHY IS STATS IMPORTANT \n",
    "___\n",
    "\n",
    "<p>Many Machine Learning and data science problems are either borrowed from or heavily rely on a theory from statistics. Some of the most incredible brains in AI and ML don't have a solid computer science degree but rather a beautiful understanding of statistics. So in this module we will be covering some of the concepts that we see reoccuring within ML and Data science.\n",
    "\n",
    "Again, I really encourage you to put aside any misconceptions your grade 9 stats classes seeded in your head about stats. It's an amazing aspect of maths and understanding it is becoming even more important in a post-covid environment.\n",
    "</p>\n"
   ]
  },
  {
   "cell_type": "markdown",
   "metadata": {},
   "source": [
    "# WHAT IS EXPECTED VALUE / THE EXPECTATION?\n",
    "\n",
    "- The weighted average value of a random variable\n",
    "- Quick recap of what a continuous variable is and what a discrete variable is\n",
    "- Where does the expected value get used in data science?\n",
    " - Thresholds: model thresholds, i.e later on we will create a logistic regression and we will need to think about what to set our thresholds to. \n",
    " - Can you think of any?\n",
    " - Here give the example of the confusion matrices with expectation value."
   ]
  },
  {
   "cell_type": "markdown",
   "metadata": {},
   "source": [
    "## Calculating the expectation value: \n",
    "### To be LaTex\n",
    "P(x) * n \n",
    "- Give example of heads and tails. What is the expected value for getting a heads with 3 coin flips?\n",
    "- I have 6 puppies all with different weight I wan to know the EV. "
   ]
  },
  {
   "cell_type": "markdown",
   "metadata": {},
   "source": [
    "# WHAT IS VARIANCE? \n",
    "- firstly work out the mean\n",
    "- Minus the mean from the number\n",
    "- Then square the values \n",
    "\n",
    "- Once calculated the variance then show the equation in latex\n",
    "- ok, where do we use it? Think of a regression problem and we train the data really well on the training set but poorly on testing data set. Variance allows us to understand how well our model is reacting to new data!\n",
    "\n",
    "- Now let's work out the variance for 2 examples: Low variance and high variance. \n",
    "\n",
    "- Variance vs bias "
   ]
  },
  {
   "cell_type": "markdown",
   "metadata": {},
   "source": [
    "# WHAT IS BIAS?\n",
    "- This is commonly the difference between the expected value of an estimator and the parametre we are estimating. \n",
    "- LaTex this equation\n",
    "- I'd like to have a continuous example where we've calculated expected value in 1 and then moved it into the bias. \n"
   ]
  },
  {
   "cell_type": "markdown",
   "metadata": {},
   "source": [
    "# WHAT IS COVARIANCE?\n",
    "\n",
    "- height and weight \n",
    "- determine the mean of height\n",
    "- determine the mean of weight\n",
    "- variance = sum of (y-yhat)^2/ n-1 \n",
    "- Covariance allows you to identify 3 types of trends: positive trends, negative trends and no trends \n",
    "- Give examples of each of the trends \n",
    "- Allows you to then talk about correation \n",
    "- How is it calculated? (x-xmean)(y-ymean) / n-1 \n",
    "- Explain that covararienace is sensitive to the scale of the data \n",
    "\n",
    "# CORRELATION - IS THIS THE SAME AS COVARIANCE?\n",
    "\n",
    "- What is correlation? \n",
    "    - How can 2 different things be related?\n",
    "- Maximum value for correlation = 1 \n",
    "- No relationship we get a correlation of 0\n",
    "- Confidence in Correlation? Hello p-value \n",
    "- Confidence depends on how much data we have. Correlation does not really get impacted by how much data we have \n",
    "- Let's measure correlation\n",
    "- LaTex Equation: covariance(x,y)/ (sqroot(variance x)) * (sqroot(variance y))\n",
    "- create a function to calculate the correlation and then let's test it against some differnet data sets\n",
    "\n",
    "<b> Should we cover p-values? </b>\n"
   ]
  },
  {
   "cell_type": "markdown",
   "metadata": {},
   "source": [
    "# WHAT IS PROBABILITY?"
   ]
  },
  {
   "cell_type": "markdown",
   "metadata": {},
   "source": [
    "# HOW IS PROBABILITY AND EXPECTATION SIMILAR?"
   ]
  },
  {
   "cell_type": "code",
   "execution_count": null,
   "metadata": {},
   "outputs": [],
   "source": []
  }
 ],
 "metadata": {
  "celltoolbar": "Slideshow",
  "kernelspec": {
   "display_name": "Python 3",
   "language": "python",
   "name": "python3"
  },
  "language_info": {
   "codemirror_mode": {
    "name": "ipython",
    "version": 3
   },
   "file_extension": ".py",
   "mimetype": "text/x-python",
   "name": "python",
   "nbconvert_exporter": "python",
   "pygments_lexer": "ipython3",
   "version": "3.7.7"
  }
 },
 "nbformat": 4,
 "nbformat_minor": 4
}
