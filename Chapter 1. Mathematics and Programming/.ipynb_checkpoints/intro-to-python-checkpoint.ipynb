{
 "cells": [
  {
   "cell_type": "markdown",
   "metadata": {},
   "source": [
    "# Introduction to Python\n",
    "\n",
    "## Why Python?\n",
    "Python is one of many high-level programming languages, meaning it has more straight-forward language and functionality at the cost of higher computation times. According to the PYPL and TIOBE indexes, Python is consistently ranked as one of the most popular!"
   ]
  },
  {
   "cell_type": "code",
   "execution_count": 1,
   "metadata": {},
   "outputs": [
    {
     "data": {
      "text/html": [
       "<table><tr><td><img src='https://www.cleveroad.com/images/article-previews/3e136c21655beff45307ef1625c3dbcab29541cba8f83a538d08bdb133784eb7.png'></td><td><img src='https://www.cleveroad.com/images/article-previews/6af294a5e19e416faf22baf35c2aa7bbc3ce0859bdbcb9b48a7bbb19107b7c70.png'></td></tr></table>"
      ],
      "text/plain": [
       "<IPython.core.display.HTML object>"
      ]
     },
     "metadata": {},
     "output_type": "display_data"
    }
   ],
   "source": [
    "from IPython.display import HTML, display\n",
    "display(HTML(\"<table><tr><td><img src='https://www.cleveroad.com/images/article-previews/3e136c21655beff45307ef1625c3dbcab29541cba8f83a538d08bdb133784eb7.png'></td><td><img src='https://www.cleveroad.com/images/article-previews/6af294a5e19e416faf22baf35c2aa7bbc3ce0859bdbcb9b48a7bbb19107b7c70.png'></td></tr></table>\"))"
   ]
  },
  {
   "cell_type": "markdown",
   "metadata": {},
   "source": [
    "Python is widely used by tech giants such as Google, Facebook, Instagram, Spotify, Netflix, Reddit, Quota, Dropbox... the list goes on! In the beginning of Python, the founders of Google went as far as to make the decision of: __\"Python where we can, C++ where we must.\",__ since Python would be much easier to use and debug, but would be inept for tasks where efficiency is key.\n",
    "\n",
    "So, what are the benefits using Python? Well, for starters, Python has a remarkably simple syntax relative to some other high-level programming languages. Below is an example of two snippets of code that achieve the same task: one in __Java (left)__, and the other in __Python (right)__.\n",
    "<img src=\"https://seeromega.com/wp-content/uploads/2019/07/syntex-java.png\" />\n",
    "While the difference in complexity may not seem large, if it is noticeable in small-scale tasks, it will have great impact in larger-scale programs!\n",
    "\n",
    "Python also has a remarkable community and resources, which allow you to get help from your peers, develop your programming skills and discover creative new ways to solve interesting problems! Python is open-source, which means you will have the help of some of the best developers out there.\n",
    "\n",
    "It is also a highly multi-purpose programming language. Given the frameworks and libraries built on Python, it can be used for a variety of purposes such as: __creating and hosting a website, data science and machine learning, running scripts to automate boring tasks,__ and many more!\n"
   ]
  },
  {
   "cell_type": "markdown",
   "metadata": {},
   "source": [
    "## Python: Building Blocks\n",
    "In Python, the interpreter executes code from the top of the script, meaning there is no need for a main function as in other languages such as Java or C++. Below are examples of print statements using the default function ___print( )___, which prints the input values onto the screen or other standard output device."
   ]
  },
  {
   "cell_type": "code",
   "execution_count": 2,
   "metadata": {},
   "outputs": [
    {
     "name": "stdout",
     "output_type": "stream",
     "text": [
      "Hello world!\n",
      "Python is awesome!\n"
     ]
    }
   ],
   "source": [
    "# Any code following a hash symbol is known as a comment and will not read by the interpreter!\n",
    "\n",
    "print(\"Hello world!\")\n",
    "print(\"Python\",\"is\",\"awesome!\") "
   ]
  },
  {
   "cell_type": "markdown",
   "metadata": {},
   "source": [
    "Congratulations on running your first Python program!\n",
    "\n",
    "### Value Types and Variables\n",
    "A __value__ in Python is something which the program manipulates. The most commonly used value types are __int__ for integers, __string__ for words and characters (marked by either \"\" or ''), __float__ for floating point formatted decimals, and __bool__ for boolean values that can either be 'True' or 'False'. Examples are:"
   ]
  },
  {
   "cell_type": "code",
   "execution_count": 5,
   "metadata": {},
   "outputs": [
    {
     "name": "stdout",
     "output_type": "stream",
     "text": [
      "<class 'int'>\n",
      "<class 'float'>\n",
      "<class 'str'> <class 'str'>\n",
      "<class 'bool'>\n",
      "<class 'str'>\n",
      "<class 'str'>\n",
      "<class 'float'>\n"
     ]
    }
   ],
   "source": [
    "# type() tells us the type of value we input into it\n",
    "print(type(1))\n",
    "print(type(1.1))\n",
    "print(type(\"Hello World\"), type('Hello World'))\n",
    "print(type(True))\n",
    "\n",
    "# It is important to note that any number can also be represented as a string\n",
    "print(type(\"1\"))\n",
    "print(type(\"1.1\"))\n",
    "\n",
    "# What do you think the type of 1.0 will be?\n",
    "print(type(1.0))"
   ]
  },
  {
   "cell_type": "markdown",
   "metadata": {},
   "source": [
    "__Variables__ are names chosen to refer to a value. We can give a variable a value through an __assignment statemenet__ with the \"=\" operator. __Statements__ are instructions that the Python interpreter can execute. The type of a variable is the type of the value it stores."
   ]
  },
  {
   "cell_type": "code",
   "execution_count": 6,
   "metadata": {},
   "outputs": [
    {
     "name": "stdout",
     "output_type": "stream",
     "text": [
      "3.2 <class 'float'>\n",
      "7 <class 'int'>\n",
      "Hello World <class 'str'>\n",
      "\n",
      "Don't be afraid of change! <class 'str'>\n"
     ]
    }
   ],
   "source": [
    "# Here are some assignment statements\n",
    "a = 3.2\n",
    "lucky_number = 7\n",
    "text = \"Hello World\"\n",
    "\n",
    "print(a,type(a))\n",
    "print(lucky_number, type(lucky_number))\n",
    "print(text,type(text))\n",
    "\n",
    "print() # prints out an empty line\n",
    "\n",
    "# Variables can be reassigned different values\n",
    "a = \"Don't be afraid of change!\"\n",
    "print(a,type(a))\n"
   ]
  },
  {
   "cell_type": "markdown",
   "metadata": {},
   "source": [
    "__Expressions__ are values, variables, or combinations of different variables and values. Values can be combined with different __operators__. As in mathematics, operations within parentheses are carried out first, then multiplication and division, then addition and subtraction. The result of an expression is also a value. \n",
    "\n",
    "Below are some examples of simple operators used in Python."
   ]
  },
  {
   "cell_type": "code",
   "execution_count": 7,
   "metadata": {},
   "outputs": [
    {
     "name": "stdout",
     "output_type": "stream",
     "text": [
      "2\n",
      "1\n",
      "2.0\n",
      "4\n",
      "9\n",
      "0\n",
      "Ah! Ah! Ah! Ah! \n",
      "Staying Alive!\n",
      "\n",
      "5\n",
      "6\n"
     ]
    }
   ],
   "source": [
    "a = 1\n",
    "b = 2\n",
    "c = 3\n",
    "\n",
    "print(a + a) # additions\n",
    "print(c - a - 1) # subtraction\n",
    "print(4 / b) # division (division always returns a float type value)\n",
    "print(b * b)# multiplication\n",
    "print(3 ** 2) # exponentiation\n",
    "print(6 % 3) # remainder\n",
    "print(\"Ah! \"*4) # performs repetition on the string\n",
    "print(\"Staying\" + \" \" + \"Alive!\") # concatenation(joining) strings\n",
    "\n",
    "print()\n",
    "\n",
    "# Always double-check the priority of your operations!\n",
    "print(1+2*2)\n",
    "print((1+2)*2)"
   ]
  },
  {
   "cell_type": "code",
   "execution_count": 8,
   "metadata": {},
   "outputs": [
    {
     "name": "stdout",
     "output_type": "stream",
     "text": [
      "Joao Pereira Joao Pereira Joao Pereira Joao Pereira Joao Pereira Joao Pereira Joao Pereira Joao Pereira Joao Pereira Joao Pereira Joao Pereira Joao Pereira Joao Pereira Joao Pereira Joao Pereira Joao Pereira Joao Pereira Joao Pereira Joao Pereira Joao Pereira \n",
      "Volume of the cube is:  0.125\n",
      "Joao Pereira is a Python master!\n"
     ]
    }
   ],
   "source": [
    "# Task 1: Print your name 20 times\n",
    "print(\"Joao Pereira \"*20)\n",
    "\n",
    "# Task 2: Compute the volume of a cube with length of 0.5\n",
    "r = 0.5\n",
    "V = 0.5 ** 3\n",
    "print(\"Volume of the cube is: \",V)\n",
    "\n",
    "# Task 3: Concatenate different strings so that the output is given by: \"{your_name} is a Python master!\"\n",
    "my_name = \"Joao Pereira\"\n",
    "extra = \"is a Python master!\"\n",
    "print(my_name + \" \" + extra)"
   ]
  },
  {
   "cell_type": "markdown",
   "metadata": {},
   "source": [
    "## Functions\n",
    "We will first look at __functions__, which are a named sequence of statements that performs a given operation when the function is __called__. We have already seen functions in action, such as the _type( )_ function. Its __name__ is '_type'_ and it takes in a value as an __argument__ and outputs a __return value__, which in this case is the value type of your input. _type( )_ is one of many in-built functions in Python. Other examples of in-built functions are __type-casting__ functions, which convert the input value into the desired type if possible, or the __len( )__ function that returns the number of characters in a string, as shown below:"
   ]
  },
  {
   "cell_type": "code",
   "execution_count": 9,
   "metadata": {},
   "outputs": [
    {
     "name": "stdout",
     "output_type": "stream",
     "text": [
      "3 <class 'int'>\n",
      "3 <class 'str'>\n",
      "6\n"
     ]
    }
   ],
   "source": [
    "# Type Casting examples\n",
    "a = int(3.2) # converts to integer, which in this case rounds the input float type value\n",
    "b = str(3) # converts to a string\n",
    "c = \"python\"\n",
    "\n",
    "print(a, type(a))\n",
    "print(b, type(b))\n",
    "print(len(c))"
   ]
  },
  {
   "cell_type": "markdown",
   "metadata": {},
   "source": [
    "Python has other in-built functions stored in different __modules__, which are files that contain a collection of related functions grouped together. To use functions from different in-built Python modules, we use the __import__ command followed by the module name. The __math__ module is imported below as an example. To use a function from an imported module, we use __dot notation__:\n",
    "\n",
    "\"module_name\" + \".\" + \"function_name\"\n"
   ]
  },
  {
   "cell_type": "code",
   "execution_count": 10,
   "metadata": {},
   "outputs": [
    {
     "name": "stdout",
     "output_type": "stream",
     "text": [
      "0.1411200080598672 6.0\n"
     ]
    }
   ],
   "source": [
    "import math\n",
    "\n",
    "y = math.sin(3)\n",
    "x = math.sqrt(36)\n",
    "print(y,x)"
   ]
  },
  {
   "cell_type": "markdown",
   "metadata": {},
   "source": [
    "__We can also create our own Python functions!__ This is useful when we want to keep our code organized or when we need to carry out the same or similar operations multiple times. To create a function, we use a __function definition__, which is shown below for a simple example of a function that adds three input values."
   ]
  },
  {
   "cell_type": "code",
   "execution_count": 11,
   "metadata": {},
   "outputs": [
    {
     "name": "stdout",
     "output_type": "stream",
     "text": [
      "6\n"
     ]
    }
   ],
   "source": [
    "# Example function definition\n",
    "def adder(a,b,c):\n",
    "    addition = a + b + c\n",
    "    return addition\n",
    "\n",
    "output = adder(1,2,3)\n",
    "print(output)"
   ]
  },
  {
   "cell_type": "markdown",
   "metadata": {},
   "source": [
    "We always start a function definition with the keyword ___def___. In this case, our __function name__ is _adder,_ and it takes in three __arguments__, which the function stores within the __parameters__: a, b and c. Given these three arguments, it adds them and 'returns' their sum with a __return statement__. The value in the return statement becomes the value of the function when it is called, as seen in the example above being stored into the variable 'output'. __Functions do not require a return statement, but do not have a value when called__. The function terminates as soon as it reaches a return statement."
   ]
  },
  {
   "cell_type": "code",
   "execution_count": 12,
   "metadata": {},
   "outputs": [
    {
     "name": "stdout",
     "output_type": "stream",
     "text": [
      "None\n"
     ]
    }
   ],
   "source": [
    "# Example of function without return statement\n",
    "def adder_no_return(a,b,c):\n",
    "    addition = a+b+c\n",
    "\n",
    "output = adder_no_return(1,2,3)\n",
    "print(output)"
   ]
  },
  {
   "cell_type": "markdown",
   "metadata": {},
   "source": [
    "As shown in both examples, the first line of the function definition __must end with a ':'__. Furthermore, we can have any number of statements in a function, __but they must be indented__.\n",
    "\n",
    "Another crucial concept with functions is the idea of __scope__, which means that a variable is only available within the __region__ in which it was created. When a variable is created outside any function, it is known as a __global variable__, and can be accessed from within functions. When a variable is created from within a function, it is known to have a __local scope__, and variables created from within the function cannot be accessed outside, unless we include it in the return statement. \n",
    "\n",
    "If we want to edit a global variable from within a function, we can use the __global__ keyword to give the function access to the variable. Below are some examples of the properties of scope in Python."
   ]
  },
  {
   "cell_type": "code",
   "execution_count": 13,
   "metadata": {},
   "outputs": [
    {
     "name": "stdout",
     "output_type": "stream",
     "text": [
      "hello\n",
      "2\n",
      "1\n"
     ]
    }
   ],
   "source": [
    "p = 2\n",
    "q = \"hello\"\n",
    "\n",
    "# Trying to change the global variable from a function\n",
    "def p_func():\n",
    "    print(q) # we can still ACCESS the global variable q\n",
    "    p = 1    # creates a local variable p and sets its value to 1\n",
    "p_func()\n",
    "print(p) # the value of p was not changed globally, so will still be 2\n",
    "\n",
    "# Using the global keyword to give access to the global scope\n",
    "def p_func():\n",
    "    global p # using global keyword\n",
    "    p = 1 # actually assigns the value of 1 to the global variable p\n",
    "p_func()\n",
    "print(p) # the value of p was changed successfully!"
   ]
  },
  {
   "cell_type": "code",
   "execution_count": 14,
   "metadata": {},
   "outputs": [
    {
     "name": "stdout",
     "output_type": "stream",
     "text": [
      "Nice to meet you Johny !\n",
      "1.2508566957869456\n"
     ]
    }
   ],
   "source": [
    "# Task 1: Write function that takes a variable of type string as an argument and prints a greeting with the given name\n",
    "def greeter(name_str):\n",
    "    print(\"Nice to meet you\",name_str,\"!\")\n",
    "\n",
    "greeter(\"Johny\")\n",
    "\n",
    "# Task 2: Write a function that takes in a number argument and returns the sum of its sine and cosine (Hint: use in-built functions)\n",
    "import math\n",
    "\n",
    "def sincos(x):\n",
    "    y = math.sin(x) + math.cos(x)\n",
    "    return y\n",
    "\n",
    "print(sincos(0.3))"
   ]
  },
  {
   "cell_type": "markdown",
   "metadata": {},
   "source": [
    "## Conditional Statements\n",
    "As we saw earlier, boolean value types can be either __True__ or __False__. These are the outputs of expressions using __comparison operators__. Given two variables, a and b, we define the comparison operators used in Python as:\n",
    "* __'a == b'__: returns True if a and b are equal, False otherwise\n",
    "* __'a > b'__: returns True if a is greater than b, False otherwise\n",
    "* __'a < b'__: returns True if a is less than b, False otherwise\n",
    "* __'a >= b'__: returns True if a is greater than or equal to b, False otherwise\n",
    "* __'a <= b'__: returns True if a is less than or equal to b, False otherwise\n",
    "* __'a != b'__: returns True if a and b are not equal, False otherwise"
   ]
  },
  {
   "cell_type": "markdown",
   "metadata": {},
   "source": [
    "We also have three __logical operators__, where given two boolean-value variables a and b:\n",
    "* __'a and b'__: returns True if both a and b are true, False otherwise\n",
    "* __'a or b'__: returns True if either a, b or both are true, False otherwise\n",
    "* __'not a'__: returns True if a is False, False otherwise"
   ]
  },
  {
   "cell_type": "code",
   "execution_count": 15,
   "metadata": {},
   "outputs": [
    {
     "name": "stdout",
     "output_type": "stream",
     "text": [
      "True\n",
      "False\n",
      "False\n",
      "True\n",
      "True\n",
      "False\n",
      "\n",
      "False\n",
      "True\n",
      "False\n"
     ]
    }
   ],
   "source": [
    "# Comparison operators:\n",
    "print(1==1)\n",
    "print(1>1)\n",
    "print(1<1)\n",
    "print(1>=1)\n",
    "print(1<=1)\n",
    "print(1!=1)\n",
    "\n",
    "print()\n",
    "\n",
    "# Logical operators:\n",
    "print(True and False)\n",
    "print(True or False)\n",
    "print(not True)"
   ]
  },
  {
   "cell_type": "markdown",
   "metadata": {},
   "source": [
    "__Conditional statements__ enable us to change the behaviour of our program by checking given conditions. The simplest form of conditional statement is the _if_ statement, which is followed by a __condition__, given by a boolean value, and a __':'__. We can have any number of statements inside an _if_ statement, __as long as they are indented relative to the _if_ statement.__\n",
    "\n",
    "A simple example of an _if_ statement is shown below:"
   ]
  },
  {
   "cell_type": "code",
   "execution_count": 16,
   "metadata": {},
   "outputs": [
    {
     "name": "stdout",
     "output_type": "stream",
     "text": [
      "2\n"
     ]
    }
   ],
   "source": [
    "# Conditional statement example: print a variable if it is even\n",
    "\n",
    "x = 2 \n",
    "if x%2==0: # if divisible by 2\n",
    "    print(x)\n",
    "\n",
    "y = 3\n",
    "if y%2==0:\n",
    "    print(y)\n"
   ]
  },
  {
   "cell_type": "markdown",
   "metadata": {},
   "source": [
    "Conditonal statements can be further elaborated by including ___elif___ and ___else___ statements, known as __branches__ of the original _if_ statement. These provide alternatives to the primary _if_ statement, only being checked if the previous condition was not met. _elif_ stands for _else if_ and checks if a condition is true when the previous condition was not met. There can any desired number of _elif_ statements following an _if_ statement. An _else_ statements acts as a final alternative, and is called upon if all other conditions are not met.\n",
    "\n",
    "Below are two examples of these conditional statements at work:"
   ]
  },
  {
   "cell_type": "code",
   "execution_count": 17,
   "metadata": {
    "scrolled": true
   },
   "outputs": [
    {
     "name": "stdout",
     "output_type": "stream",
     "text": [
      "x is less than y\n"
     ]
    }
   ],
   "source": [
    "# Conditional statements:\n",
    "x = 1\n",
    "y = 2\n",
    "\n",
    "if x>y:\n",
    "    print(\"x is greater than y\")\n",
    "elif x<y:                        # only read if the first condition is not met\n",
    "    print(\"x is less than y\")\n",
    "else:\n",
    "    print(\"x is equal to y\") # only read if all the prior conditions were not met"
   ]
  },
  {
   "cell_type": "code",
   "execution_count": 18,
   "metadata": {},
   "outputs": [
    {
     "name": "stdout",
     "output_type": "stream",
     "text": [
      "Morning\n",
      "Afternoon\n",
      "Evening\n",
      "Night\n"
     ]
    }
   ],
   "source": [
    "#Task 1: Write a function that given an input integer representing the hour of the day (0-23), \n",
    "#returns a string saying the time of the day\n",
    "# Morning(0-11), Afternoon(12-16), Evening(17-20), Night(21-23)\n",
    "\n",
    "def time(hour):\n",
    "    if hour>=0 and hour<=11:\n",
    "        return \"Morning\"\n",
    "    elif hour>=12 and hour<=16:\n",
    "        return \"Afternoon\"\n",
    "    elif hour>=17 and hour<=20:\n",
    "        return \"Evening\"\n",
    "    else:\n",
    "        return \"Night\"\n",
    "\n",
    "print(time(2))\n",
    "print(time(14))\n",
    "print(time(18))\n",
    "print(time(22))"
   ]
  },
  {
   "cell_type": "markdown",
   "metadata": {},
   "source": [
    "## Recursion\n",
    "__Recursion__ refers to a programming technique where __a function calls itself__. We can use recursion as a process of repeating items in a self-similar way. In these processes, the main aim is to reduce a problem to simpler versions of the same problem. It can seem a bit difficult at first, so we will start with an example of a function calling itself, known as a __recursive function__:"
   ]
  },
  {
   "cell_type": "code",
   "execution_count": 5,
   "metadata": {},
   "outputs": [
    {
     "ename": "RecursionError",
     "evalue": "maximum recursion depth exceeded",
     "output_type": "error",
     "traceback": [
      "\u001b[0;31m---------------------------------------------------------------------------\u001b[0m",
      "\u001b[0;31mRecursionError\u001b[0m                            Traceback (most recent call last)",
      "\u001b[0;32m<ipython-input-5-f023cacd9b22>\u001b[0m in \u001b[0;36m<module>\u001b[0;34m\u001b[0m\n\u001b[1;32m      1\u001b[0m \u001b[0;32mdef\u001b[0m \u001b[0mfoo\u001b[0m\u001b[0;34m(\u001b[0m\u001b[0;34m)\u001b[0m\u001b[0;34m:\u001b[0m\u001b[0;34m\u001b[0m\u001b[0;34m\u001b[0m\u001b[0m\n\u001b[1;32m      2\u001b[0m     \u001b[0mfoo\u001b[0m\u001b[0;34m(\u001b[0m\u001b[0;34m)\u001b[0m\u001b[0;34m\u001b[0m\u001b[0;34m\u001b[0m\u001b[0m\n\u001b[0;32m----> 3\u001b[0;31m \u001b[0mfoo\u001b[0m\u001b[0;34m(\u001b[0m\u001b[0;34m)\u001b[0m\u001b[0;34m\u001b[0m\u001b[0;34m\u001b[0m\u001b[0m\n\u001b[0m",
      "\u001b[0;32m<ipython-input-5-f023cacd9b22>\u001b[0m in \u001b[0;36mfoo\u001b[0;34m()\u001b[0m\n\u001b[1;32m      1\u001b[0m \u001b[0;32mdef\u001b[0m \u001b[0mfoo\u001b[0m\u001b[0;34m(\u001b[0m\u001b[0;34m)\u001b[0m\u001b[0;34m:\u001b[0m\u001b[0;34m\u001b[0m\u001b[0;34m\u001b[0m\u001b[0m\n\u001b[0;32m----> 2\u001b[0;31m     \u001b[0mfoo\u001b[0m\u001b[0;34m(\u001b[0m\u001b[0;34m)\u001b[0m\u001b[0;34m\u001b[0m\u001b[0;34m\u001b[0m\u001b[0m\n\u001b[0m\u001b[1;32m      3\u001b[0m \u001b[0mfoo\u001b[0m\u001b[0;34m(\u001b[0m\u001b[0;34m)\u001b[0m\u001b[0;34m\u001b[0m\u001b[0;34m\u001b[0m\u001b[0m\n",
      "... last 1 frames repeated, from the frame below ...\n",
      "\u001b[0;32m<ipython-input-5-f023cacd9b22>\u001b[0m in \u001b[0;36mfoo\u001b[0;34m()\u001b[0m\n\u001b[1;32m      1\u001b[0m \u001b[0;32mdef\u001b[0m \u001b[0mfoo\u001b[0m\u001b[0;34m(\u001b[0m\u001b[0;34m)\u001b[0m\u001b[0;34m:\u001b[0m\u001b[0;34m\u001b[0m\u001b[0;34m\u001b[0m\u001b[0m\n\u001b[0;32m----> 2\u001b[0;31m     \u001b[0mfoo\u001b[0m\u001b[0;34m(\u001b[0m\u001b[0;34m)\u001b[0m\u001b[0;34m\u001b[0m\u001b[0;34m\u001b[0m\u001b[0m\n\u001b[0m\u001b[1;32m      3\u001b[0m \u001b[0mfoo\u001b[0m\u001b[0;34m(\u001b[0m\u001b[0;34m)\u001b[0m\u001b[0;34m\u001b[0m\u001b[0;34m\u001b[0m\u001b[0m\n",
      "\u001b[0;31mRecursionError\u001b[0m: maximum recursion depth exceeded"
     ]
    }
   ],
   "source": [
    "def foo():\n",
    "    foo()\n",
    "foo()"
   ]
  },
  {
   "cell_type": "markdown",
   "metadata": {},
   "source": [
    "So now we have seen that a function can call itself. So why did we get an error? Well, if every time you call the function, the function is called again, this process will never be terminated, eventually forcing the program to throw an error. Therefore, when we work with recursive functions, we must use one or more __base cases__. This means that every time the function is called, we provide a simpler version of the problem, until the simplest case(s) are reached.\n",
    "\n",
    "An example of a recursive countdown function is shown below. Its aim is to print every whole number from a given input to 0. We start by printing the input number, and every time the function is called inside itself, the number decreases by 1, simplifying the problem. In this case we have a base case of n = 0."
   ]
  },
  {
   "cell_type": "code",
   "execution_count": 6,
   "metadata": {},
   "outputs": [
    {
     "name": "stdout",
     "output_type": "stream",
     "text": [
      "5\n",
      "4\n",
      "3\n",
      "2\n",
      "1\n",
      "0\n"
     ]
    }
   ],
   "source": [
    "# Function that takes in as input the starting number to countdown from\n",
    "def countdown(n):\n",
    "    \n",
    "    # base case\n",
    "    if n == 0:\n",
    "        print(0)\n",
    "        \n",
    "    # reducing problem into simpler version\n",
    "    else:\n",
    "        print(n)\n",
    "        countdown(n-1)\n",
    "        \n",
    "\n",
    "countdown(5)"
   ]
  },
  {
   "cell_type": "markdown",
   "metadata": {},
   "source": [
    "Once the concept is well-understood, recursion can be simple and easier to understand from a programmer's point of view. However, it can sometimes be a computationally innefficient method of approaching repetitive problems, which leads us to iteration."
   ]
  },
  {
   "cell_type": "markdown",
   "metadata": {},
   "source": [
    "## Iteration\n",
    "__Iteration__ is another form of repetition of a given sequence of actions. Iteration is one of the most essential tools in the automation of simple tasks. Therefore, Python provides language features for iteration purposes. The first example is the ___while___ statement. This can be used for iteration by giving it a conditional statement, and keep repeating whatever is within the _while_ statement while the condition is met. Given the repetivive nature, this flow is known as a __loop__.\n",
    "\n",
    "An example of this type of statement is, again, the countdown function given below:"
   ]
  },
  {
   "cell_type": "code",
   "execution_count": 8,
   "metadata": {},
   "outputs": [
    {
     "name": "stdout",
     "output_type": "stream",
     "text": [
      "10\n",
      "9\n",
      "8\n",
      "7\n",
      "6\n",
      "5\n",
      "4\n",
      "3\n",
      "2\n",
      "1\n",
      "0\n"
     ]
    }
   ],
   "source": [
    "# Function that takes in a positive integer number and counts down from this number\n",
    "def countdown(n):\n",
    "    while n>=0:\n",
    "        print(n) # every iteration, print the current value of n\n",
    "        n = n-1 # every iteration, decrease the variable n by 1\n",
    "\n",
    "countdown(10)"
   ]
  },
  {
   "cell_type": "markdown",
   "metadata": {},
   "source": [
    "As some of you may have noticed, if we did not add a step where we changed the value of n, the the iterative process would have never been terminated. This would create an __infinite loop__. Therefore, every iteration __we must modify one or more variables so that eventually the given condition becomes false__.\n",
    "\n",
    "Another feature that enables iteration is the ___for___ statement. It works in a similar manner to a _while_ statement, but instead of iterating while a given condition is still true, it iterates over a sequence of elements. One of the most common implementations of the _for_ statement is together with the __range( )__ function, which generates an arithmetic sequence. It has three parameters: __(start, stop, step)__. __start__ is the number at which the sequence starts, __stop__ is the value at which the sequence ends, and __step__ is the common difference of the sequence. If the step argument is not specified, the step size is automatically 1, and if the start argument is not specific, the starting value is automatically 0. Every iteration, a variable we define will take the next value in the sequence.\n",
    "\n",
    "Note from the examples below that __the stop value in the range function is not included in the sequence the function outputs__.\n",
    "\n",
    "Two implementations are shown below:"
   ]
  },
  {
   "cell_type": "code",
   "execution_count": 20,
   "metadata": {},
   "outputs": [
    {
     "name": "stdout",
     "output_type": "stream",
     "text": [
      "5\n",
      "10\n",
      "15\n",
      "20\n",
      "\n",
      "10\n",
      "9\n",
      "8\n",
      "7\n",
      "6\n",
      "5\n",
      "4\n",
      "3\n",
      "2\n",
      "1\n"
     ]
    }
   ],
   "source": [
    "# Seeing different values of our iterator\n",
    "for i in range(5,25,5): # variable i will start at 5, go up by 5 and has a stop value of 25\n",
    "    print(i)\n",
    "    \n",
    "print()\n",
    "    \n",
    "#Countdown function\n",
    "def countdown(n):\n",
    "    for i in range(n,0,-1): # start at 1, increment by -1, stop at 0\n",
    "        print(i)\n",
    "countdown(10)"
   ]
  },
  {
   "cell_type": "code",
   "execution_count": 21,
   "metadata": {},
   "outputs": [
    {
     "name": "stdout",
     "output_type": "stream",
     "text": [
      "0\n",
      "1\n",
      "1\n",
      "2\n",
      "3\n",
      "5\n",
      "8\n",
      "13\n",
      "21\n",
      "34\n"
     ]
    }
   ],
   "source": [
    "# Task 1: Write a function that computes the Fibbonacci sequence:\n",
    "# Each term is the sum of the two previous terms\n",
    "# The first is 0 and the second term is 1\n",
    "def fib(n):\n",
    "    a = 0 # two elements before the current\n",
    "    b = 1 # one element before the current element\n",
    "    for i in range(n):\n",
    "        if i==0:\n",
    "            print(a)\n",
    "        elif i==1:\n",
    "            print(b)\n",
    "        else:\n",
    "            new_term = a+b # set new term value\n",
    "            print(new_term)\n",
    "            # moving a and b up along the sequence\n",
    "            a = b\n",
    "            b = new_term\n",
    "\n",
    "fib(10)"
   ]
  },
  {
   "cell_type": "markdown",
   "metadata": {},
   "source": [
    "## Lists\n",
    "A __list__ is an ordered set of values, where each value is identifiable by an index. The elements in a list can have any type, and it is __mutable__, meaning we can directly modify individual elements. Lists and strings (amongst other things) that behave like ordered sets are known as __sequences__.\n",
    "\n",
    "Lists are created by enclosing its elements with __'[' and ']'__, and separating the elements by commas. You can also enclose no elements to create an __empty list__. To access and/or modify the value of an element, we can use the  __bracket operator'[ ]'__, which takes an argument representing the location of the element along the list starting from 0, known as an __index__. \n",
    "\n",
    "__Negative indices__ correspond to counting backwards from the end of the list.\n",
    "\n",
    "Some examples of list manipulation is shown below:"
   ]
  },
  {
   "cell_type": "code",
   "execution_count": 22,
   "metadata": {},
   "outputs": [
    {
     "name": "stdout",
     "output_type": "stream",
     "text": [
      "[3, 'love', 'Python'] ['super', 'trippy'] Python\n"
     ]
    }
   ],
   "source": [
    "# Creating lists\n",
    "a = [\"I\",\"love\",\"Python\"]\n",
    "b = [\"This\",\"is\",[\"super\",\"trippy\"]] # the element at index 2 is a nested list\n",
    "c = [] # this is an empty list\n",
    "\n",
    "# Modifying a list\n",
    "a[0] = 3\n",
    "\n",
    "print(a, b[2], a[-1]) # index of -1 corresponds to last element of the list (first from the end)"
   ]
  },
  {
   "cell_type": "markdown",
   "metadata": {},
   "source": [
    "We can also extract a __slice__ of a given list in one line by applying the bracket operator in the form __[ start:stop ]__, returning a slice of the list starting at the index __'start'__ and ending one index before __'stop'__. If no stop value is not specified after ':', the slice includes elements from the start value to the end of the list.\n",
    "\n",
    "As with the range( ) function, the stop value is not included in the slicing. Slicing examples are shown below."
   ]
  },
  {
   "cell_type": "code",
   "execution_count": 23,
   "metadata": {},
   "outputs": [
    {
     "name": "stdout",
     "output_type": "stream",
     "text": [
      "['apple', 'banana']\n",
      "['apple', 'banana', 'grape']\n"
     ]
    }
   ],
   "source": [
    "fruits = [\"apple\", \"banana\", \"grape\"]\n",
    "print(fruits[0:2])\n",
    "print(fruits[0:])"
   ]
  },
  {
   "cell_type": "markdown",
   "metadata": {},
   "source": [
    "Another useful operation that can be done is __traversing__ a list, meaning we loop over a list for each element. While this can be done with both _while_ and _for_ statements by indexing each element of the string, __it is more 'Pythonic' to directly traverse a string with a _for_ statement__ as shown below. We can also use the ___enumerate(  )___ function, which takes in our list as an argument and gives us access to the index and list element simultaneously!"
   ]
  },
  {
   "cell_type": "code",
   "execution_count": 24,
   "metadata": {},
   "outputs": [
    {
     "name": "stdout",
     "output_type": "stream",
     "text": [
      "Python\n",
      "is\n",
      "10\n",
      "out of\n",
      "10\n",
      "\n",
      "0 Python\n",
      "1 is\n",
      "2 10\n",
      "3 out of\n",
      "4 10\n"
     ]
    }
   ],
   "source": [
    "a = ['Python',\"is\",10,\"out of\",10]\n",
    "\n",
    "# Simple traversing\n",
    "for element in a: # Statement means: for each character(sequentially) of the string stored in the variable 'fruit'\n",
    "    print(element)\n",
    "\n",
    "print()\n",
    "\n",
    "# enumerate() implementation\n",
    "for index,element in enumerate(a):\n",
    "    print(index,element)"
   ]
  },
  {
   "cell_type": "markdown",
   "metadata": {},
   "source": [
    "We can also use _for_ statements in Python in what is called __list comprehension:__ a compact way of generating a list given a function such as _range(  )_ or another list. The general form is given by:\n",
    "\n",
    "new_list = [\"element\" \"_for_ statement\"]\n",
    "\n",
    "As shown in the example below, we can also further add conditional statements if necessary."
   ]
  },
  {
   "cell_type": "code",
   "execution_count": 25,
   "metadata": {},
   "outputs": [
    {
     "name": "stdout",
     "output_type": "stream",
     "text": [
      "['b', 'n', 'n']\n"
     ]
    }
   ],
   "source": [
    "# Using list comprehension to create a list with all non 'a' elements of the list banana\n",
    "banana = [\"b\",\"a\",\"n\",\"a\",\"n\",\"a\"]\n",
    "bnn = [element for element in banana if element!=\"a\"]\n",
    "print(bnn)"
   ]
  },
  {
   "cell_type": "markdown",
   "metadata": {},
   "source": [
    "When lists have elements that are also lists, these are known as __nested__. By creating lists of lists in a structured form, nested lists can be used to represent __matrices__. This way, each element of the enclosing list is now a row of our array, as shown below. We can use two indices, the first representing the row number and the second to represent the column number to access individual elements and rows of our matrix. __Lists do not allow the extraction of individual columns__."
   ]
  },
  {
   "cell_type": "code",
   "execution_count": 5,
   "metadata": {},
   "outputs": [
    {
     "name": "stdout",
     "output_type": "stream",
     "text": [
      "2\n",
      "[4, 5, 6]\n",
      "[1, 0, 1]\n"
     ]
    }
   ],
   "source": [
    "# Creating an array with nested lists!\n",
    "a = [[1,2,3],[4,5,6],[1,0,1]]\n",
    "\n",
    "# Accessing second element of the first row\n",
    "print(a[0][1])\n",
    "\n",
    "# Slicing second row\n",
    "print(a[1][:])\n",
    "\n",
    "# ATTEMPTING to slice the third column (prints third row instead)\n",
    "print(a[:][2])"
   ]
  },
  {
   "cell_type": "markdown",
   "metadata": {},
   "source": [
    "Other useful operations with lists are the previously seen ___len(  )___ function for computing the number of elements in a list(or any compound data type), the ___del___ operator, which can be used for deleting an element or slice from a list given their respective indices, and the ___.append(  )___ method, which adds another element to the end of the list."
   ]
  },
  {
   "cell_type": "code",
   "execution_count": 26,
   "metadata": {},
   "outputs": [
    {
     "name": "stdout",
     "output_type": "stream",
     "text": [
      "3\n",
      "['apple', 'grape']\n",
      "['apple', 'grape', 'pineapple']\n"
     ]
    }
   ],
   "source": [
    "fruits = [\"banana\",\"apple\",\"grape\"]\n",
    "\n",
    "# len() function \n",
    "print(len(fruits))\n",
    "\n",
    "# del operator\n",
    "del fruits[0]\n",
    "print(fruits)\n",
    "\n",
    "# .append() method\n",
    "fruits.append(\"pineapple\")\n",
    "print(fruits)"
   ]
  },
  {
   "cell_type": "markdown",
   "metadata": {},
   "source": [
    "Some of the most important string-handling functionalities in Python involve __lists of strings__. The __.split( )__ function can split strings into substrings given a given __delimiter__, which is a sequence of one or more characters used to specify a boundary between separate regions of a string. Likewise, by specifying a delimiter, the __.join( )__ function can join a list of strings, separating individual elements with the given delimiter. Another important function is the __list( )__ function, which can convert a string into a list of characters. Below are some examples of their functionality."
   ]
  },
  {
   "cell_type": "code",
   "execution_count": 28,
   "metadata": {},
   "outputs": [
    {
     "name": "stdout",
     "output_type": "stream",
     "text": [
      "['Take', 'on', 'me', '!', 'Take', 'me', 'on', '!']\n",
      "['Take ', ' me ! Take me ', ' !']\n",
      "\n",
      "Take on me ! Take me on !\n",
      "Take on me ! Take me on !\n",
      "\n",
      "['T', 'a', 'k', 'e', ' ', 'o', 'n', ' ', 'm', 'e', ' ', '!', ' ', 'T', 'a', 'k', 'e', ' ', 'm', 'e', ' ', 'o', 'n', ' ', '!']\n"
     ]
    }
   ],
   "source": [
    "# Splitting strings into list of words\n",
    "string = \"Take on me ! Take me on !\"\n",
    "word_list = string.split() # delimiter is automatically set to a \" \"\n",
    "print(word_list)\n",
    "\n",
    "word_list2 = string.split(\"on\")\n",
    "print(word_list2)\n",
    "\n",
    "print()\n",
    "\n",
    "# Joining string lists into one string with a delimiter\n",
    "word_list = \" \".join(word_list)\n",
    "word_list2 = \"on\".join(word_list2)\n",
    "\n",
    "print(word_list)\n",
    "print(word_list2)\n",
    "\n",
    "print()\n",
    "\n",
    "# Making a list of individual characters from a tring\n",
    "print(list(word_list))"
   ]
  },
  {
   "cell_type": "markdown",
   "metadata": {},
   "source": [
    "## Sets\n",
    "__Sets__ are a collection which are __unordered__ and __unindexed__. They are created by enclosing their elements within curly brackets __{  }__. All elements in a set are unique, therefore __converting lists to sets is useful for removing duplicates__. This can be done by using the ___set(  )___ function as shown below."
   ]
  },
  {
   "cell_type": "code",
   "execution_count": 29,
   "metadata": {},
   "outputs": [
    {
     "name": "stdout",
     "output_type": "stream",
     "text": [
      "{1, 2, 3}\n",
      "['a', 'b']\n"
     ]
    }
   ],
   "source": [
    "# Initializing a set\n",
    "a = {1,2,3}\n",
    "print(a)\n",
    "\n",
    "# Removing duplicates from a set\n",
    "b = [\"a\",\"a\",\"a\",\"a\",\"a\",\"b\"]\n",
    "b = set(b) # converts list to a set which must have only unique elements\n",
    "b = list(b) # converts our set back into a list\n",
    "print(b)"
   ]
  },
  {
   "cell_type": "markdown",
   "metadata": {},
   "source": [
    "While there are a few useful functions surrounding the set type, besides the removing duplicates, most of its functionality is already covered in other compound data types, and we will generally work with lists. Two useful methods, however, are the __intersect__( ) method, which returns a set with the common elements between two sets, and the __union__( ) method, which returns a set with all unique elements of two sets with no duplicates."
   ]
  },
  {
   "cell_type": "code",
   "execution_count": 30,
   "metadata": {},
   "outputs": [
    {
     "name": "stdout",
     "output_type": "stream",
     "text": [
      "{8, 5, 6, 7}\n",
      "{1, 2, 3, 4, 5, 6, 7, 8, 9, 10, 11, 12}\n"
     ]
    }
   ],
   "source": [
    "# Computing the intersection and union of set A and set B\n",
    "A = {1,2,3,4,5,6,7,8}\n",
    "B = {5,6,7,8,9,10,11,12}\n",
    "print(A.intersection(B))\n",
    "print(A.union(B))"
   ]
  },
  {
   "cell_type": "markdown",
   "metadata": {},
   "source": [
    "## Tuples\n",
    "Tuples are a compound data types like lists, except that they are __immutable, meaning we can access its elements with the bracket operator '[ ]', but cannot edit its contents!__ To create a tuple, we separate each element by a _','_ and enclose all elements by __'(' and ')'__. To create a single-element tuple, we must include the ',' after the element. "
   ]
  },
  {
   "cell_type": "code",
   "execution_count": 46,
   "metadata": {},
   "outputs": [
    {
     "name": "stdout",
     "output_type": "stream",
     "text": [
      "e\n"
     ]
    },
    {
     "ename": "TypeError",
     "evalue": "'tuple' object does not support item assignment",
     "output_type": "error",
     "traceback": [
      "\u001b[0;31m---------------------------------------------------------------------------\u001b[0m",
      "\u001b[0;31mTypeError\u001b[0m                                 Traceback (most recent call last)",
      "\u001b[0;32m<ipython-input-46-54d4b6f869b5>\u001b[0m in \u001b[0;36m<module>\u001b[0;34m\u001b[0m\n\u001b[1;32m      4\u001b[0m \u001b[0mprint\u001b[0m\u001b[0;34m(\u001b[0m\u001b[0ma\u001b[0m\u001b[0;34m[\u001b[0m\u001b[0;34m-\u001b[0m\u001b[0;36m1\u001b[0m\u001b[0;34m]\u001b[0m\u001b[0;34m)\u001b[0m\u001b[0;34m\u001b[0m\u001b[0;34m\u001b[0m\u001b[0m\n\u001b[1;32m      5\u001b[0m \u001b[0;34m\u001b[0m\u001b[0m\n\u001b[0;32m----> 6\u001b[0;31m \u001b[0ma\u001b[0m\u001b[0;34m[\u001b[0m\u001b[0;36m0\u001b[0m\u001b[0;34m]\u001b[0m \u001b[0;34m=\u001b[0m \u001b[0;36m1\u001b[0m\u001b[0;34m\u001b[0m\u001b[0;34m\u001b[0m\u001b[0m\n\u001b[0m",
      "\u001b[0;31mTypeError\u001b[0m: 'tuple' object does not support item assignment"
     ]
    }
   ],
   "source": [
    "b = (1,)\n",
    "\n",
    "a = ('t','u','p','l','e')\n",
    "print(a[-1])\n",
    "\n",
    "a[0] = 1"
   ]
  },
  {
   "cell_type": "markdown",
   "metadata": {},
   "source": [
    "__Slicing__ and _for_ loop __traversing__ is also allowed when working with tuples. We can also extract elements from tuples in the manner shown below."
   ]
  },
  {
   "cell_type": "code",
   "execution_count": 48,
   "metadata": {},
   "outputs": [
    {
     "name": "stdout",
     "output_type": "stream",
     "text": [
      "('p', 'l', 'e')\n",
      "t\n",
      "u\n",
      "p\n",
      "l\n",
      "e\n",
      "t u p l e\n"
     ]
    }
   ],
   "source": [
    "# Slicing\n",
    "a = ('t','u','p','l','e')\n",
    "print(a[2:])\n",
    "\n",
    "# Traversing\n",
    "for element in a:\n",
    "    print(element)\n",
    "\n",
    "# Extracting elements into each variable\n",
    "a,b,c,d,e = a\n",
    "print(a,b,c,d,e)"
   ]
  },
  {
   "cell_type": "markdown",
   "metadata": {},
   "source": [
    "## Strings\n",
    "As you can imagine, strings are quite different from _int_ and _float_ type values, as they are (for the most part), compound data types(composed of one or multiple characters) like lists and tuples. As seen before, we can also access individual characters of a string with the bracket operators. We can also traverse and slice strings much like lists or tuples."
   ]
  },
  {
   "cell_type": "code",
   "execution_count": 31,
   "metadata": {},
   "outputs": [
    {
     "name": "stdout",
     "output_type": "stream",
     "text": [
      "a\n",
      "p\n",
      "p\n",
      "l\n",
      "e\n",
      "ple\n"
     ]
    }
   ],
   "source": [
    "fruit = \"apple\"\n",
    "\n",
    "# Indexing\n",
    "first_letter = fruit[0]\n",
    "\n",
    "# Traversing\n",
    "for letter in fruit:\n",
    "    print(letter)\n",
    "    \n",
    "#Slicing\n",
    "print(fruit[2:])"
   ]
  },
  {
   "cell_type": "markdown",
   "metadata": {},
   "source": [
    "Like tuples, strings are __immutable__, meaning that individual characters cannot be modified. This functionality can only be achieved by creating a modified copy of the original string."
   ]
  },
  {
   "cell_type": "code",
   "execution_count": 32,
   "metadata": {},
   "outputs": [
    {
     "name": "stdout",
     "output_type": "stream",
     "text": [
      "panana\n"
     ]
    }
   ],
   "source": [
    "fruit = \"banana\"\n",
    "# This is illegal and would throw an error\n",
    "# fruit[0] = \"p\"\n",
    "\n",
    "# This is one way in which you could create the modified string\n",
    "fruit = \"p\" + fruit[1:]\n",
    "print(fruit)"
   ]
  },
  {
   "cell_type": "markdown",
   "metadata": {},
   "source": [
    "When dealing with strings, we can also use __string formatting__, which helps create strings that incorporates values such as floats, allowing you to control features significant figures. This can be done by using the __{  }__ operator and the __.format(  )__, method. The {  } operator determines where the value is added within the string."
   ]
  },
  {
   "cell_type": "code",
   "execution_count": 49,
   "metadata": {},
   "outputs": [
    {
     "name": "stdout",
     "output_type": "stream",
     "text": [
      "Hello Bob\n",
      "Our first number is 3.1 and our second number if 4.5918\n"
     ]
    }
   ],
   "source": [
    "# Basic string formatting\n",
    "name = \"Bob\"\n",
    "greeting = \"Hello {}\"\n",
    "print(greeting.format(name))\n",
    "\n",
    "# Controlling fixed point numeber\n",
    "num1 = 3.123456\n",
    "num2 = 4.591848\n",
    "a = 'Our first number is {num1:.1f} and our second number if {num2:.4f}'.format(num1=num1,num2=num2)\n",
    "print(a)"
   ]
  },
  {
   "cell_type": "markdown",
   "metadata": {},
   "source": [
    "The string type has many __in-built methods__ (for now just consider a method to be a type of function) that facilitate string handling. A few of these are shown below."
   ]
  },
  {
   "cell_type": "code",
   "execution_count": 33,
   "metadata": {},
   "outputs": [
    {
     "name": "stdout",
     "output_type": "stream",
     "text": [
      "1 2\n",
      "\n",
      "banana BANANA\n",
      "\n",
      "Panana\n"
     ]
    }
   ],
   "source": [
    "banana = \"Banana\"\n",
    "# .find() returns the index of where a character or substring was first found in another string\n",
    "print(banana.find(\"a\"), banana.find(\"nana\")) \n",
    "print()\n",
    "\n",
    "# .lower() and .upper() convert all characters to lowercase and uppercase respectively\n",
    "print(banana.lower(), banana.upper())\n",
    "print()\n",
    "\n",
    "# .replace() replaces a given substring by another substring\n",
    "print(banana.replace('B','P'))"
   ]
  },
  {
   "cell_type": "code",
   "execution_count": 34,
   "metadata": {},
   "outputs": [
    {
     "name": "stdout",
     "output_type": "stream",
     "text": [
      "3\n"
     ]
    }
   ],
   "source": [
    "# Task 1\n",
    "def word_count(text,chosen_word):\n",
    "    text = text.lower()# set all characters to lower case for comparison\n",
    "    text = text.replace(',','') # deletes commas\n",
    "    text = text.replace('.','') # deletes full stops\n",
    "    text_split = text.split() # split text into different constituent words\n",
    "    \n",
    "    chosen_word = chosen_word.lower()\n",
    "    counter = 0 # increase counter every time a word was found\n",
    "    for word in text_split: # for every word in our text\n",
    "        if word==chosen_word:\n",
    "            counter+=1\n",
    "    return counter\n",
    "\n",
    "simple_text = \"I feel like, after all this practice, Python is not that hard. I feel like I can take it to the next level!\"\n",
    "print(word_count(simple_text,\"I\"))"
   ]
  },
  {
   "cell_type": "markdown",
   "metadata": {},
   "source": [
    "## Dictionaries\n",
    "__Dictionaries__ are similar to other compound types, except they allow the use of any immutable type as an index. For instance, we can create a price list as we see below. One way to create an __empty dictionary__ is with __{}__, and we simply add more elements to a dictionary in the following format:"
   ]
  },
  {
   "cell_type": "code",
   "execution_count": 35,
   "metadata": {},
   "outputs": [
    {
     "name": "stdout",
     "output_type": "stream",
     "text": [
      "{'banana': '£1.00', 'apple': '£2.00'}\n",
      "£2.00\n"
     ]
    }
   ],
   "source": [
    "price_list = {}\n",
    "price_list[\"banana\"] = \"£1.00\"\n",
    "price_list[\"apple\"] = \"£2.00\"\n",
    "\n",
    "print(price_list)\n",
    "print(price_list[\"apple\"])"
   ]
  },
  {
   "cell_type": "markdown",
   "metadata": {},
   "source": [
    "As we have seen above, we can keep adding elements to our dictionary. For this example, we used the fruit names as indices to access the values of their individual prices. In dictionaries, the indices are called __keys__ and the values __values__. Hence, the elements of a dictionary are known as __key-value pairs__. Since the location along the sequence is no longer valid since we set the individual indices, __order is no longer relevant when dealing with dictionaries__.\n",
    "\n",
    "Just as with lists, we can delete a key-value pair from a dictionary given its index witht the __del [ ]__ operator. We can also use the __len( )__ operator to return how many key-value pairs a dictionary holds. "
   ]
  },
  {
   "cell_type": "code",
   "execution_count": 36,
   "metadata": {},
   "outputs": [
    {
     "name": "stdout",
     "output_type": "stream",
     "text": [
      "{'apple': '£2.00'}\n"
     ]
    }
   ],
   "source": [
    "price_list = {\"banana\":\"£1.00\",\"apple\":\"£2.00\"}\n",
    "del price_list[\"banana\"]\n",
    "print(price_list)"
   ]
  },
  {
   "cell_type": "markdown",
   "metadata": {},
   "source": [
    "There are a variety of useful __dictionary methods__, such as the __.keys()__, which returns a list of the keys of the dictionary, __.values()__, which returns a list of the values of the dictionary, and the __.items()__, which returns a list of tuples, each tuple containing its key and its value. Their functionality is demonstrated below:"
   ]
  },
  {
   "cell_type": "code",
   "execution_count": 37,
   "metadata": {},
   "outputs": [
    {
     "name": "stdout",
     "output_type": "stream",
     "text": [
      "dict_keys(['banana', 'apple'])\n",
      "dict_values(['£1.00', '£2.00'])\n",
      "dict_items([('banana', '£1.00'), ('apple', '£2.00')])\n"
     ]
    }
   ],
   "source": [
    "price_list = {\"banana\":\"£1.00\",\"apple\":\"£2.00\"}\n",
    "print(price_list.keys())\n",
    "print(price_list.values())\n",
    "print(price_list.items())"
   ]
  },
  {
   "cell_type": "markdown",
   "metadata": {},
   "source": [
    "## Classes\n",
    "A __class__ is a user-defined compound-type value. After a __class definition__, members of the class we created are known as __instances__ of the type or __objects__.  When creating a class, it must have an __initialisation method__ inside it, which is a function that creates new objects. This initialisation method must be in the format shown in the example below, but can take any number of input arguments. Creating a new instance of a class is called __instantiation__ and is done via a __constructor__, whose arguments are passed into the initialisation method. We will see how to define a class with the example below."
   ]
  },
  {
   "cell_type": "code",
   "execution_count": 38,
   "metadata": {},
   "outputs": [
    {
     "name": "stdout",
     "output_type": "stream",
     "text": [
      "2 3\n",
      "5 3\n",
      "This is a rectangle!\n",
      "15 16\n"
     ]
    }
   ],
   "source": [
    "# Defining a Rectangle class!\n",
    "\n",
    "class Rectangle:\n",
    "    # This is a initialization method. It MUST be in this format!\n",
    "    def __init__(self,side1,side2):\n",
    "        self.side1 = side1\n",
    "        self.side2 = side2\n",
    "        \n",
    "    # This is a method\n",
    "    def area(self):\n",
    "        return self.side1*self.side2\n",
    "    \n",
    "    def perimeter(self):\n",
    "        return 2*(self.side1+self.side2)\n",
    "    \n",
    "    def update(self,side1,side2):\n",
    "        self.side1 = side1\n",
    "        self.side1 = side2\n",
    "    \n",
    "    def shape(self):\n",
    "        print(\"This is a rectangle!\")\n",
    "\n",
    "# Creating an instance of type Rectangle named rec1\n",
    "rec1 = Rectangle(2,3)\n",
    "print(rec1.side1, rec1.side2)\n",
    "\n",
    "# Applying methods to our object\n",
    "rec1.update(4,5)\n",
    "print(rec1.side1,rec1.side2)\n",
    "rec1.shape()\n",
    "print(rec1.area(), rec1.perimeter())"
   ]
  },
  {
   "cell_type": "markdown",
   "metadata": {},
   "source": [
    "In our constructor, we took in a 'x' and a 'y' values as arguments, and these were stored within this instance of the class Point. When values are stored within the instance of a class, these are called __attributes__, and they can be accessed as follows (as shown above with the coordinates of Point):\n",
    "\n",
    "_\"instance_name\".\"attribute_name\"_\n",
    "\n",
    "The function _update( )_ is what is known as a __method__. Methods are similar to functions, but are defined inside a class definition to show its explicit relationship to that class, and are called as follows (as shown with the update method above):\n",
    "\n",
    "_\"instance.name\".\"method_name\"(arguments)_\n",
    "\n",
    "Some of you may have noticed another difference, which is that __the methods inside a class definition must take in the term _self_ as a mandatory first argument__. This argument enables you to generalize sequences of actions to be carried out with given attributes and methods of any instance of that class. For example, in class Rectangle, when we create the _update( )_ method, we are saying that \"whatever the instance I am working with, change its side1 attribute and its side2 attribute to my input arguments\".\n",
    "\n",
    "As shown below, instances of a class can be taken as arguments for a function (note that there is no name conflict between common variables and attributes of the same name):"
   ]
  },
  {
   "cell_type": "code",
   "execution_count": 39,
   "metadata": {},
   "outputs": [
    {
     "name": "stdout",
     "output_type": "stream",
     "text": [
      "15\n"
     ]
    }
   ],
   "source": [
    "# Function that adds the areas of two rectangle objects\n",
    "def area_add(rec1,rec2):\n",
    "    area = rec1.area() + rec2.area()\n",
    "    return area\n",
    "\n",
    "rec1 = Rectangle(1,3)\n",
    "rec2 = Rectangle(3,4)\n",
    "print(area_add(rec1,rec2))   "
   ]
  },
  {
   "cell_type": "markdown",
   "metadata": {},
   "source": [
    "A crucial feature of classes is known as __inheritance__, which allows you to define a new class that is a modified version of a pre-existing class. The existing class is called the __parent class__ or __superclass__, whereas the inherited class is called the __child class__ or __subclass__. An instance of a child class will have access to all the methods and attributes of the parent class. If we want, we can also __override__ methods from the parent class, only keeping the ones that are relevant to the new child class. \n",
    "\n",
    "Let us create a class PointyPoint that inherits from class Point. It will do all the same things as class Point, except that it will also print a smiley face alongside the _.point_print( )_ method."
   ]
  },
  {
   "cell_type": "code",
   "execution_count": 40,
   "metadata": {},
   "outputs": [
    {
     "name": "stdout",
     "output_type": "stream",
     "text": [
      "This is a square!\n",
      "9 12\n"
     ]
    }
   ],
   "source": [
    "# Class that inherits from class Rectangle\n",
    "class Square(Rectangle):\n",
    "    def __init__(self,side1):\n",
    "        super().__init__(side1,side1) #width and height are the same\n",
    "    def shape(self):\n",
    "        print(\"This is a square!\")\n",
    "        \n",
    "shape1 = Square(3)\n",
    "shape1.shape()\n",
    "print(shape1.area(),shape1.perimeter())"
   ]
  },
  {
   "cell_type": "markdown",
   "metadata": {},
   "source": [
    "From this subclass example, there are a few things worth mentioning. Firstly, to inherit from a parent class, we use the following syntax in the class definition:\n",
    "\n",
    "_class \"subclass_name\"(\"superclass_name\"):_\n",
    "\n",
    "By using **super().\\_\\_init\\_\\_( )**, inside the initialisation method of the subclass, we are essentially carrying out the same operations as are done in the initialisation method of the superclass. In the case of PointyPoint, the use of this command stores the attributes 'x' and 'y'. We also have an extra print statement to show that you can have additional commands in the initialisation method of the subclass.\n"
   ]
  },
  {
   "cell_type": "code",
   "execution_count": 43,
   "metadata": {},
   "outputs": [
    {
     "name": "stdout",
     "output_type": "stream",
     "text": [
      "4.242640687119285 10\n",
      "This is a parellelogram!\n",
      "\n",
      "( 3 , 4 )\n",
      "5.0\n"
     ]
    }
   ],
   "source": [
    "# Task 1: Child class Parallelogram that inherits from Rectangle class\n",
    "# Area = side1 * side2 * sin(theta)\n",
    "# Perimeter = 2*(base + side2)\n",
    "\n",
    "import math\n",
    "\n",
    "class Parallelogram(Rectangle):\n",
    "    def __init__(self,side1,side2,theta):\n",
    "        super().__init__(side1,side2)\n",
    "        self.theta = theta\n",
    "    def area(self):\n",
    "        return self.side1*self.side2*math.sin(self.theta)\n",
    "    def shape(self):\n",
    "        print(\"This is a parellelogram!\")\n",
    "        \n",
    "par1 = Parallelogram(2,3,math.pi/4)\n",
    "print(par1.area(),par1.perimeter())\n",
    "par1.shape()\n",
    "\n",
    "print()\n",
    "        \n",
    "# Task 2: Parent class Point with x and y attributes, and update coordinates, distance and coordinate print methods \n",
    "class Point:\n",
    "    def __init__(self,x,y):\n",
    "        self.x = x\n",
    "        self.y = y\n",
    "    \n",
    "    # This is a method\n",
    "    def update(self,x,y):\n",
    "        self.x = x\n",
    "        self.y = y\n",
    "    \n",
    "    def distance(self):\n",
    "        distance = (self.x**2 + self.y**2)**0.5\n",
    "        return distance\n",
    "    \n",
    "    def point_print(self):\n",
    "        print('(',self.x,',',self.y,')')\n",
    "        \n",
    "p1 = Point(1,2)\n",
    "# Applying methods to our object\n",
    "p1.update(3,4)\n",
    "p1.point_print()\n",
    "print(p1.distance()) # Use distance method to compute the distance from the point to the origin\n"
   ]
  },
  {
   "cell_type": "markdown",
   "metadata": {},
   "source": [
    "## Python Modules and the Standard Library\n",
    "We can access functions from different __modules__ with the __import__ command, as we saw with the ___math___ module. Modules are essentially pre-written code files with functions and classes that you can access. Some of you may be thinking: \"where exactly are the files I used for the _math_ module?\". Well, the _math_ module is one of the many modules already included in the __Python Standard Library__. These are automatically available so long as you have access to Python, so you don't need to worry where it came from.\n",
    "\n",
    "Below we show another useful module from the Standard Library -  the ___random___ module:"
   ]
  },
  {
   "cell_type": "code",
   "execution_count": 4,
   "metadata": {},
   "outputs": [
    {
     "name": "stdout",
     "output_type": "stream",
     "text": [
      "grape\n",
      "['apple', 'grape', 'pear', 'banana', 'mango']\n",
      "1.2256289204670963\n"
     ]
    }
   ],
   "source": [
    "import random\n",
    "\n",
    "a = [\"apple\",\"banana\",\"pear\",\"grape\",\"mango\"]\n",
    "\n",
    "# Chooses a random element from a list\n",
    "print(random.choice(a))\n",
    "\n",
    "# Shuffles the elements of a list into a random order\n",
    "random.shuffle(a)\n",
    "print(a)\n",
    "\n",
    "# Chooses a random number from a uniform distribution within the given range\n",
    "print(random.uniform(0,4))"
   ]
  },
  {
   "cell_type": "markdown",
   "metadata": {},
   "source": [
    "The idea of modules can be extended to your own Python files, where we can import code we have written from other files __given that they are in the same directory as the file you are importing them from__. You can import modules from other directories by using the ___sys___ module, but we will not cover this at this time.\n",
    "\n",
    "We can also import individual functions or classes. When the function is imported individually, it does not require the dot notation.\n",
    "\n",
    "Below is an example of importing the function _explain( )_ from the example.py file that is within the same directory as this Jupyter notebook file."
   ]
  },
  {
   "cell_type": "code",
   "execution_count": 22,
   "metadata": {},
   "outputs": [
    {
     "name": "stdout",
     "output_type": "stream",
     "text": [
      "We have imported this explain function from inside the example file.\n",
      "We have imported this explain function from inside the example file.\n"
     ]
    }
   ],
   "source": [
    "# How we have done it up to now\n",
    "import example\n",
    "example.explain()\n",
    "\n",
    "# Importing an individual function\n",
    "from example import explain\n",
    "explain()"
   ]
  },
  {
   "cell_type": "markdown",
   "metadata": {},
   "source": [
    "We have only imported modules so far. A __package__ is a collection of modules, each containing code, wheres a __library__ is the general term for a collection of functions an methods. Using __pip__, you may already have installed __external libraries__ in the directory you are working in. Once installed, we can treat these just as if they came from the Standard Library!\n",
    "\n",
    "Here is an example with the renowened __Numpy__. Note that the __as__ command allows us to rename a module, method or function to make our code more concise. It is commonplace to name the Numpy module as __np__. As with lists, we can also use the same format with numpy to create __numpy arrays__. This data type comes with many useful methods and functionalities that are useful in matrix manipulation. __Unlike lists, numpy arrays allow multi-dimensional slicing!__"
   ]
  },
  {
   "cell_type": "code",
   "execution_count": 6,
   "metadata": {},
   "outputs": [
    {
     "name": "stdout",
     "output_type": "stream",
     "text": [
      "[3 6 1]\n",
      "[[4 5 6]\n",
      " [1 0 1]]\n",
      "[[5 6]\n",
      " [0 1]]\n",
      "\n",
      "[[1. 2. 3.]\n",
      " [4. 5. 6.]\n",
      " [1. 0. 1.]]\n"
     ]
    }
   ],
   "source": [
    "import numpy as np\n",
    "\n",
    "# Creating numpy arrays\n",
    "matrix1 = np.array([[1,2,3],[4,5,6],[1,0,1]]) # same matrix as we created earlier with lists\n",
    "matrix2 = np.eye(3) # 3x3 identity matrix\n",
    "\n",
    "# Slicing rows and columns of a numpy array\n",
    "print(matrix1[:,2]) # third column\n",
    "print(matrix1[1:,:]) # the second and third rows\n",
    "print(matrix1[1:,1:]) # the second and third elements of the second and third rows\n",
    "\n",
    "print()\n",
    "\n",
    "# Matrix multiplication function\n",
    "matrix_product = np.matmul(matrix2,matrix1) # carries out matrix multiplication for two numpy arrays\n",
    "print(matrix_product)"
   ]
  },
  {
   "cell_type": "markdown",
   "metadata": {},
   "source": [
    "# Congratulations! You have finished the Introduction to Python!"
   ]
  }
 ],
 "metadata": {
  "kernelspec": {
   "display_name": "Python 3",
   "language": "python",
   "name": "python3"
  },
  "language_info": {
   "codemirror_mode": {
    "name": "ipython",
    "version": 3
   },
   "file_extension": ".py",
   "mimetype": "text/x-python",
   "name": "python",
   "nbconvert_exporter": "python",
   "pygments_lexer": "ipython3",
   "version": "3.7.7"
  }
 },
 "nbformat": 4,
 "nbformat_minor": 4
}
