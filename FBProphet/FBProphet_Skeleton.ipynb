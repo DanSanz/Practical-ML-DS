{
 "cells": [
  {
   "cell_type": "markdown",
   "metadata": {},
   "source": [
    "# FBProphet_Skeleton"
   ]
  },
  {
   "cell_type": "markdown",
   "metadata": {},
   "source": [
    "# Note: Structure of Course\n",
    "\n",
    "I think it's best to split to organise the section across 4 notebooks:\n",
    "\n",
    "**Notebook 1:** Introduction to FB Prophet\n",
    "    1. What is FB Prophet?\n",
    "    2. Model evaluation\n",
    "    3. Basic implementation\n",
    "    4. Saving and retrieving Prophet model\n",
    "    5. References\n",
    "    \n",
    "**Notebook 2:** Dealing with seasonality\n",
    "    1. What is seasonality?\n",
    "    2. Seasonality types\n",
    "     Refererences\n",
    "    \n",
    "**Notebook 3:** Trend flexibility and changepoints\n",
    "    References\n",
    "\n",
    "**Notebook 4:** Extension - The Maths behind Prophet\n",
    "    References\n",
    "    \n",
    "<p style=\"color:red\">Still need to design questions</p>"
   ]
  },
  {
   "cell_type": "markdown",
   "metadata": {},
   "source": [
    "## Introduction to FB Prophet"
   ]
  },
  {
   "cell_type": "markdown",
   "metadata": {},
   "source": [
    "### What is Facebook Prophet?\n",
    "\n",
    "Facebook Prophet is the industry standard for forecasting due to it's ease of use and similarity with other common data science libraries, such as sklearn [1]. It works very well with seasonal data, and is robust to missing data and outliers [2].\n",
    "\n",
    "***image of ***"
   ]
  },
  {
   "cell_type": "markdown",
   "metadata": {},
   "source": [
    "### Basic implementation"
   ]
  },
  {
   "cell_type": "markdown",
   "metadata": {},
   "source": [
    "### Model evaluation"
   ]
  },
  {
   "cell_type": "markdown",
   "metadata": {},
   "source": [
    "### Saving and retrieving Prophet model"
   ]
  },
  {
   "cell_type": "code",
   "execution_count": 1,
   "metadata": {},
   "outputs": [],
   "source": [
    "# saving the model using pickle\n",
    "\n",
    "# saving the model using json"
   ]
  },
  {
   "cell_type": "markdown",
   "metadata": {},
   "source": [
    "### References\n",
    "\n",
    "1. https://facebook.github.io/prophet/docs/quick_start.html#python-api\n",
    "2. https://facebook.github.io/prophet/"
   ]
  },
  {
   "cell_type": "markdown",
   "metadata": {},
   "source": [
    "### What is seasonality?\n",
    "\n",
    "***image of a forecast showing seasonality labelled***\n",
    "\n",
    "***examples of seasonality (examples should include obvious things like yearly seasonality but also specific ones like holidays, easter could be one)***"
   ]
  },
  {
   "cell_type": "markdown",
   "metadata": {},
   "source": [
    "### Type of seasonality\n",
    "\n",
    "***mathematical explanation of linear seasonality (plus example)***\n",
    "\n",
    "***mathematical explanation of multiplicative seasonality (plus example)***"
   ]
  },
  {
   "cell_type": "markdown",
   "metadata": {},
   "source": [
    "### Trend flexibility and changepoints"
   ]
  },
  {
   "cell_type": "markdown",
   "metadata": {},
   "source": [
    "### Extension - How does the Maths in Prophet work?"
   ]
  },
  {
   "cell_type": "markdown",
   "metadata": {},
   "source": []
  },
  {
   "cell_type": "markdown",
   "metadata": {},
   "source": []
  },
  {
   "cell_type": "code",
   "execution_count": null,
   "metadata": {},
   "outputs": [],
   "source": []
  },
  {
   "cell_type": "code",
   "execution_count": null,
   "metadata": {},
   "outputs": [],
   "source": []
  }
 ],
 "metadata": {
  "kernelspec": {
   "display_name": "AiCore",
   "language": "python",
   "name": "aicore"
  },
  "language_info": {
   "codemirror_mode": {
    "name": "ipython",
    "version": 3
   },
   "file_extension": ".py",
   "mimetype": "text/x-python",
   "name": "python",
   "nbconvert_exporter": "python",
   "pygments_lexer": "ipython3",
   "version": "3.7.6"
  }
 },
 "nbformat": 4,
 "nbformat_minor": 4
}
