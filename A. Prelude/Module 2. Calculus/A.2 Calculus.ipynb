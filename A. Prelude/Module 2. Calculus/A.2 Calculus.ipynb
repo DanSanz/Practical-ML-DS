{
 "cells": [
  {
   "cell_type": "markdown",
   "metadata": {},
   "source": [
    "# Calculus\n",
    "\n",
    "### Learning Objectives:\n",
    "- [The Meaning Of Calculus](#The-Meaning-Of-Calculus)\n",
    "- [Chain Rule](#Chain-Rule)\n",
    "- [Partial Differentiation](#Partial-Differentiation)\n",
    "\n",
    "\n",
    "# The Meaning Of Calculus"
   ]
  },
  {
   "cell_type": "markdown",
   "metadata": {},
   "source": [
    "# Chain Rule"
   ]
  },
  {
   "cell_type": "markdown",
   "metadata": {},
   "source": [
    "# Partial Differentiation"
   ]
  }
 ],
 "metadata": {
  "kernelspec": {
   "display_name": "Python 3",
   "language": "python",
   "name": "python3"
  },
  "language_info": {
   "codemirror_mode": {
    "name": "ipython",
    "version": 3
   },
   "file_extension": ".py",
   "mimetype": "text/x-python",
   "name": "python",
   "nbconvert_exporter": "python",
   "pygments_lexer": "ipython3",
   "version": "3.7.7"
  }
 },
 "nbformat": 4,
 "nbformat_minor": 4
}
