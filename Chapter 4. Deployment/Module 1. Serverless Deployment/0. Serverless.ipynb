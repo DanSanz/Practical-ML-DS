{
 "metadata": {
  "language_info": {
   "codemirror_mode": {
    "name": "ipython",
    "version": 3
   },
   "file_extension": ".py",
   "mimetype": "text/x-python",
   "name": "python",
   "nbconvert_exporter": "python",
   "pygments_lexer": "ipython3",
   "version": 3
  },
  "orig_nbformat": 2
 },
 "nbformat": 4,
 "nbformat_minor": 2,
 "cells": [
  {
   "source": [
    "# Serverless deployment\n",
    "\n",
    "## What is serverless?\n",
    "\n",
    "## AWS Lambda\n",
    "\n",
    "### Lambda layers\n",
    "\n",
    "### How can we run torch on Lambda?\n",
    "\n",
    "## AWS API Gateway\n",
    "\n",
    "### Methods and resources\n",
    "\n",
    "### Making requests to the API\n",
    "\n",
    "### Response headers\n",
    "\n"
   ],
   "cell_type": "markdown",
   "metadata": {}
  },
  {
   "cell_type": "code",
   "execution_count": null,
   "metadata": {},
   "outputs": [],
   "source": []
  }
 ]
}